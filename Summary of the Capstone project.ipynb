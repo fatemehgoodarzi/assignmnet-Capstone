{
 "cells": [
  {
   "cell_type": "markdown",
   "metadata": {},
   "source": [
    "# Business Problem"
   ]
  },
  {
   "cell_type": "markdown",
   "metadata": {},
   "source": [
    "The client wants to open a business in Manhattan area, so we focus on that borough during the analysis. We define potential neighborhood based on the number of sushi bars which are operating right in each neighborhood. Manhattan has full potential but also is a very challenging district to open a business because of high competition. New sushi bar should be open in an area that inadequate neighborhood in this way the bar can attract more customers. Therefore, this analysis necessary to ensure that we have enough customers and that we are not so close to other sushi places.\n"
   ]
  },
  {
   "cell_type": "markdown",
   "metadata": {},
   "source": [
    "## Data Selection"
   ]
  },
  {
   "cell_type": "markdown",
   "metadata": {},
   "source": [
    "To identify the characteristics of our competitors' venues in Manhattan, we first need to find out the number of sushi bars in Manhattan and their location.\n",
    "Then using Google Map API to find their geographic coordinates based on their postal code addresses."
   ]
  },
  {
   "cell_type": "markdown",
   "metadata": {},
   "source": [
    "## Methodology"
   ]
  },
  {
   "cell_type": "markdown",
   "metadata": {},
   "source": [
    "1.Addresses are converted into their equivalent latitude and longitude values. \n",
    "Foursquare API is used to explore neighborhoods in Manhattan, New York. \n",
    "After that, explore function to get sushi restaurant categories in each neighborhood.\n",
    "\n",
    "2.Then using this feature to group the neighborhoods into clusters K-means clustering algorithm will be use to complete this task. And also, the Folium library to visualize the neighborhoods in Manhattan and its emerging clusters."
   ]
  },
  {
   "cell_type": "markdown",
   "metadata": {},
   "source": [
    "## Results"
   ]
  },
  {
   "cell_type": "markdown",
   "metadata": {},
   "source": [
    "Using K-mean to clustering data area with less number of sushi bars"
   ]
  },
  {
   "cell_type": "markdown",
   "metadata": {},
   "source": [
    "Based on dataframe analysis above Cluster 3 (Upper West Side ) and Cluster 4 (Morningside Heights) areas are the best places to open a new sushi bar business.\n"
   ]
  },
  {
   "cell_type": "markdown",
   "metadata": {},
   "source": [
    "## Discussion "
   ]
  },
  {
   "cell_type": "markdown",
   "metadata": {},
   "source": [
    "1. This analysis is performed on limited data. This may be right or may be wrong. But if good amount of data is available there is scope to come up with better results.\n",
    "2. There is high competition in Midtown and Soho so it is very risky to open business in these areas.\n",
    "3. Central Harlem has also potential where closes to Morningside Heights area.\n",
    "4. It can be done more detailed analysis by adding other factors such as transportation, demographics of inhabitants.   \n"
   ]
  },
  {
   "cell_type": "code",
   "execution_count": null,
   "metadata": {},
   "outputs": [],
   "source": []
  }
 ],
 "metadata": {
  "kernelspec": {
   "display_name": "Python",
   "language": "python",
   "name": "conda-env-python-py"
  },
  "language_info": {
   "codemirror_mode": {
    "name": "ipython",
    "version": 3
   },
   "file_extension": ".py",
   "mimetype": "text/x-python",
   "name": "python",
   "nbconvert_exporter": "python",
   "pygments_lexer": "ipython3",
   "version": "3.6.12"
  }
 },
 "nbformat": 4,
 "nbformat_minor": 4
}
